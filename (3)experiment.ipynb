{
  "nbformat": 4,
  "nbformat_minor": 0,
  "metadata": {
    "colab": {
      "provenance": [],
      "gpuType": "T4"
    },
    "kernelspec": {
      "name": "python3",
      "display_name": "Python 3"
    },
    "language_info": {
      "name": "python"
    },
    "accelerator": "GPU"
  },
  "cells": [
    {
      "cell_type": "code",
      "execution_count": null,
      "metadata": {
        "colab": {
          "base_uri": "https://localhost:8080/"
        },
        "id": "WfBd1q0xSy7i",
        "outputId": "6a2b7b6b-714c-498c-b1f0-e1e1e737d671"
      },
      "outputs": [
        {
          "output_type": "stream",
          "name": "stdout",
          "text": [
            "Mounted at /content/drive\n"
          ]
        },
        {
          "output_type": "stream",
          "name": "stderr",
          "text": [
            "[nltk_data] Downloading package punkt to /root/nltk_data...\n",
            "[nltk_data]   Unzipping tokenizers/punkt.zip.\n",
            "[nltk_data] Downloading package stopwords to /root/nltk_data...\n",
            "[nltk_data]   Unzipping corpora/stopwords.zip.\n"
          ]
        }
      ],
      "source": [
        "import pandas as pd\n",
        "import keras\n",
        "from keras.preprocessing.text import Tokenizer\n",
        "from keras.preprocessing.sequence import pad_sequences\n",
        "from keras.models import Sequential\n",
        "import numpy as np\n",
        "from sklearn.model_selection import train_test_split\n",
        "from keras.utils import to_categorical\n",
        "from sklearn.metrics import confusion_matrix, accuracy_score, precision_score, recall_score, f1_score\n",
        "from tensorflow.keras.layers import Dropout\n",
        "import nltk\n",
        "from nltk.corpus import stopwords\n",
        "from nltk.tokenize import word_tokenize\n",
        "from nltk.stem import PorterStemmer\n",
        "\n",
        "# Инициализация NLTK (необходимо выполнить один раз)\n",
        "nltk.download('punkt')\n",
        "nltk.download('stopwords')\n",
        "import re\n",
        "from sklearn.metrics import confusion_matrix\n",
        "import seaborn as sns\n",
        "import matplotlib.pyplot as plt\n",
        "import sys\n",
        "from tensorflow.keras.layers import Embedding, Conv1D, GlobalMaxPooling1D, Dense\n",
        "from tensorflow.keras.models import Sequential"
      ]
    },
    {
      "cell_type": "markdown",
      "source": [
        "**Načítanie datasetov**\n",
        "\n",
        "---\n",
        "\n",
        "\n",
        " train: Twitter dataset by Davidson (80%, bez podvzorkovania);\n",
        " test: Twitter dataset by Davidson (20%)"
      ],
      "metadata": {
        "id": "cTYCOgFReZRj"
      }
    },
    {
      "cell_type": "code",
      "source": [
        "\n",
        "train = pd.read_csv('/content/drive/MyDrive/Data/trainNO.csv')\n",
        "test = pd.read_csv('/content/drive/MyDrive/Data/test.csv')\n"
      ],
      "metadata": {
        "id": "5i5ChC2ATCIA"
      },
      "execution_count": null,
      "outputs": []
    },
    {
      "cell_type": "markdown",
      "source": [
        "**Predspracovanie dat **\n",
        "\n",
        "---\n",
        "\n"
      ],
      "metadata": {
        "id": "aW_McXpwfecX"
      }
    },
    {
      "cell_type": "code",
      "source": [
        "# Flagy pre regulárne výrazy\n",
        "FLAGS = re.MULTILINE | re.DOTALL\n",
        "# Funkcia pre spracovanie hashtagov\n",
        "\n",
        "def hashtag(text):\n",
        "    text = text.group()\n",
        "    hashtag_body = text[1:]\n",
        "    if hashtag_body.isupper():\n",
        "        result = \"<hashtag> {} <allcaps>\".format(hashtag_body.lower())\n",
        "    else:\n",
        "        result = \" \".join([\"<hashtag>\"] + re.split(r\"(?=[A-Z])\", hashtag_body, flags=FLAGS))\n",
        "    return result\n",
        "# Funkcia pre spracovanie všetkých veľkých písmen\n",
        "\n",
        "def allcaps(text):\n",
        "    text = text.group()\n",
        "    return text.lower() + \" <allcaps>\"\n",
        "\n",
        "# Hlavná funkcia na tokenizáciu textu\n",
        "\n",
        "def tokenize(text):\n",
        "    # Rôzne časti regulárneho výrazu pre emotikony\n",
        "    eyes = r\"[8:=;]\"\n",
        "    nose = r\"['`\\-]?\"\n",
        "\n",
        "    # Funkcia pre nahradenie vzoru\n",
        "    def re_sub(pattern, repl):\n",
        "        return re.sub(pattern, repl, text, flags=FLAGS)\n",
        "\n",
        "     # Nahradenie URL adries reťazcom \"<url>\"\n",
        "    text = re_sub(r\"https?:\\/\\/\\S+\\b|www\\.(\\w+\\.)+\\S*\", \"<url>\")\n",
        "    # Nahradenie znaku \"/\" medzerami okolo, aby sa oddelili od slov\n",
        "    text = re_sub(r\"/\",\" / \")\n",
        "    # Nahradenie menčení používateľa reťazcom \"<user>\"\n",
        "    text = re_sub(r\"@\\w+\", \"<user>\")\n",
        "    # Nahradenie smajlíkov reťazcom \"<smile>\"\n",
        "    text = re_sub(r\"{}{}[)dD]+|[)dD]+{}{}\".format(eyes, nose, nose, eyes), \"<smile>\")\n",
        "    text = re_sub(r\"{}{}p+\".format(eyes, nose), \"<lolface>\")\n",
        "    text = re_sub(r\"{}{}\\(+|\\)+{}{}\".format(eyes, nose, nose, eyes), \"<sadface>\")\n",
        "    text = re_sub(r\"{}{}[\\/|l*]\".format(eyes, nose), \"<neutralface>\")\n",
        "    text = re_sub(r\"<3\",\"<heart>\")\n",
        "    # Nahradenie čísiel reťazcom \"<number>\"\n",
        "    text = re_sub(r\"[-+]?[.\\d]*[\\d]+[:,.\\d]*\", \"<number>\")\n",
        "    # Nahradenie hashtagov volaním funkcie hashtag\n",
        "    text = re_sub(r\"#\\S+\", hashtag)\n",
        "    # Nahradenie opakovania znakov reťazcom \"<repeat>\"\n",
        "    text = re_sub(r\"([!?.]){2,}\", r\"\\1 <repeat>\")\n",
        "    # Nahradenie zdĺžených slov reťazcom \"<elong>\"\n",
        "    text = re_sub(r\"\\b(\\S*?)(.)\\2{2,}\\b\", r\"\\1\\2 <elong>\")\n",
        "    # Nahradenie všetkých veľkých písmen reťazcom \"<allcaps>\"\n",
        "    text = re_sub(r\"([A-Z]){2,}\", allcaps)\n",
        "\n",
        "    return text.lower()\n",
        "\n",
        "if __name__ == '__main__':\n",
        "    # Testovací text\n",
        "    text = \"&#9733;@&#9733;@&#9733;@&#9733;@&#9733; GRAND OPENING ! &#9733;@&#9733;@&#9733;@&#9733;@&#9733; TOP CLASS &#9733; Oriental Massage &#9733; PERFECT !&#9733;/ http://t.co/ydZYr4dVS4\"\n",
        "    # Tokenizácia textu\n",
        "    tokens = tokenize(text)\n",
        "    print(tokens)"
      ],
      "metadata": {
        "colab": {
          "base_uri": "https://localhost:8080/"
        },
        "id": "qnsTOAc7j4Nx",
        "outputId": "8b779df0-498c-4a69-ee2e-30404da098d7"
      },
      "execution_count": null,
      "outputs": [
        {
          "output_type": "stream",
          "name": "stdout",
          "text": [
            "&<hashtag> <number>;@&#<number>;@&#<number>;@&#<number>;@&#<number>; grand <allcaps> opening <allcaps> ! &<hashtag> <number>;@&#<number>;@&#<number>;@&#<number>;@&#<number>; top <allcaps> class <allcaps> &<hashtag> <number>; oriental massage &<hashtag> <number>; perfect <allcaps> !&<hashtag> <number>; /  <url>\n"
          ]
        }
      ]
    },
    {
      "cell_type": "code",
      "source": [
        "# Odstránenie stĺpca 'class' z train\n",
        "train_texts = train.drop('class', axis=1)\n",
        "\n",
        "# Konverzia stĺpca 'class' na kategóriálny formát\n",
        "train_labels = to_categorical(train['class'], num_classes=2)\n",
        "\n",
        "# Odstránenie stĺpca 'class' z test\n",
        "test_texts = test.drop('class', axis=1)\n",
        "\n",
        "# Konverzia stĺpca 'class' na kategóriálny formát\n",
        "test_labels = to_categorical(test['class'], num_classes=2)\n"
      ],
      "metadata": {
        "id": "dIps3mPbTIpg"
      },
      "execution_count": null,
      "outputs": []
    },
    {
      "cell_type": "code",
      "source": [
        "# Aplikácia funkcie preprocess na train_texts a test_texts\n",
        "train_texts['tweet'] = preprocess(train_texts['tweet'])\n",
        "\n",
        "test_texts['tweet'] = preprocess(test_texts['tweet'])\n"
      ],
      "metadata": {
        "id": "_WeYrnY4TLoW"
      },
      "execution_count": null,
      "outputs": []
    },
    {
      "cell_type": "markdown",
      "source": [
        "**CNN**\n",
        "\n",
        "---\n",
        "Parametre modelu"
      ],
      "metadata": {
        "id": "I-daKtX-hG9m"
      }
    },
    {
      "cell_type": "code",
      "source": [
        "\n",
        "VOCAB_SIZE = 10000\n",
        "MAX_LENGTH = 734\n",
        "EMBEDDING_DIM = 200\n",
        "FILTERS = 256\n",
        "KERNEL_SIZE = 5\n",
        "HIDDEN_UNITS = 128\n",
        "tokenizer = Tokenizer(num_words=VOCAB_SIZE)\n",
        "tokenizer.fit_on_texts(train_texts['tweet'])\n",
        "# Príprava textových komentárov na numerické sekvencie pomocou tokenizeru.\n",
        "sequences = tokenizer.texts_to_sequences(train_texts['tweet'])\n",
        "\n",
        "# Zarovnanie numerických sekvencií na maximálnu dĺžku, ktorú určuje MAX_LENGTH.\n",
        "data = pad_sequences(sequences, maxlen=MAX_LENGTH)"
      ],
      "metadata": {
        "id": "5RrzgevXTN03"
      },
      "execution_count": null,
      "outputs": []
    },
    {
      "cell_type": "code",
      "source": [
        "# Vytvorenie sekvenčného modelu\n",
        "model = Sequential()\n",
        "\n",
        "# Pridanie vrstvy embeddingu na mapovanie slov na vektory a určenie vstupnej dĺžky sekvencií\n",
        "model.add(Embedding(VOCAB_SIZE, EMBEDDING_DIM, input_length=MAX_LENGTH))\n",
        "\n",
        "# Pridanie vrstvy dropout na redukciu pretrénovania\n",
        "model.add(Dropout(0.5))\n",
        "\n",
        "# Pridanie konvolučnej vrstvy s RELU aktiváciou na extrakciu rôznych charakteristík z textu\n",
        "model.add(Conv1D(FILTERS, KERNEL_SIZE, activation='relu'))\n",
        "\n",
        "# Pridanie vrstvy max-poolingu na získanie najvýznamnejších charakteristík\n",
        "model.add(MaxPooling1D(pool_size=2))\n",
        "\n",
        "# Pridanie vrstvy global max-poolingu na extrakciu najvýznamnejšej črty zo všetkých čŕt\n",
        "model.add(GlobalMaxPooling1D())\n",
        "\n",
        "# Pridanie skrytej vrstvy s RELU aktiváciou\n",
        "model.add(Dense(HIDDEN_UNITS, activation='relu'))\n",
        "\n",
        "# Pridanie výstupnej vrstvy s aktiváciou sigmoid pre binárnu klasifikáciu\n",
        "model.add(Dense(2, activation='sigmoid'))\n",
        "\n",
        "# Kompilácia modelu s Adam optimizerom, binárnou krížovou entropiou ako stratovou funkciou a metrikou presnosti\n",
        "model.compile(optimizer='adam', loss='binary_crossentropy', metrics=['accuracy'])\n",
        "\n",
        "# Trénovanie modelu na trénovacích dátach s definovanou veľkosťou batcha, počtom epoch a rozdelením na validačnú sadu\n",
        "model.fit(data, np.array(train_labels), batch_size=64, epochs=10, validation_split=0.1)\n"
      ],
      "metadata": {
        "colab": {
          "base_uri": "https://localhost:8080/"
        },
        "id": "B80IbrHOTQ_d",
        "outputId": "7939d0c7-b7be-4584-c098-8598cab9b81a"
      },
      "execution_count": null,
      "outputs": [
        {
          "output_type": "stream",
          "name": "stdout",
          "text": [
            "Epoch 1/10\n",
            "279/279 [==============================] - 26s 75ms/step - loss: 0.2258 - accuracy: 0.9092 - val_loss: 0.1108 - val_accuracy: 0.9602\n",
            "Epoch 2/10\n",
            "279/279 [==============================] - 10s 35ms/step - loss: 0.0968 - accuracy: 0.9638 - val_loss: 0.1123 - val_accuracy: 0.9602\n",
            "Epoch 3/10\n",
            "279/279 [==============================] - 9s 33ms/step - loss: 0.0610 - accuracy: 0.9794 - val_loss: 0.1232 - val_accuracy: 0.9541\n",
            "Epoch 4/10\n",
            "279/279 [==============================] - 8s 28ms/step - loss: 0.0373 - accuracy: 0.9876 - val_loss: 0.1384 - val_accuracy: 0.9521\n",
            "Epoch 5/10\n",
            "279/279 [==============================] - 8s 28ms/step - loss: 0.0232 - accuracy: 0.9922 - val_loss: 0.1638 - val_accuracy: 0.9486\n",
            "Epoch 6/10\n",
            "279/279 [==============================] - 8s 28ms/step - loss: 0.0160 - accuracy: 0.9948 - val_loss: 0.1984 - val_accuracy: 0.9430\n",
            "Epoch 7/10\n",
            "279/279 [==============================] - 8s 27ms/step - loss: 0.0108 - accuracy: 0.9965 - val_loss: 0.2077 - val_accuracy: 0.9470\n",
            "Epoch 8/10\n",
            "279/279 [==============================] - 8s 28ms/step - loss: 0.0117 - accuracy: 0.9966 - val_loss: 0.2209 - val_accuracy: 0.9476\n",
            "Epoch 9/10\n",
            "279/279 [==============================] - 7s 27ms/step - loss: 0.0090 - accuracy: 0.9974 - val_loss: 0.2342 - val_accuracy: 0.9470\n",
            "Epoch 10/10\n",
            "279/279 [==============================] - 8s 28ms/step - loss: 0.0089 - accuracy: 0.9975 - val_loss: 0.2490 - val_accuracy: 0.9385\n"
          ]
        },
        {
          "output_type": "execute_result",
          "data": {
            "text/plain": [
              "<keras.src.callbacks.History at 0x7f7eb3f68e80>"
            ]
          },
          "metadata": {},
          "execution_count": 8
        }
      ]
    },
    {
      "cell_type": "code",
      "source": [
        "# Príprava textových komentárov na numerické sekvencie pomocou tokenizeru.\n",
        "sequences_test = tokenizer.texts_to_sequences(test_texts['tweet'])\n",
        "# Zarovnanie numerických sekvencií na maximálnu dĺžku, ktorú určuje MAX_LENGTH.\n",
        "data_test = pad_sequences(sequences_test, maxlen=MAX_LENGTH)\n",
        "\n",
        "# Vyhodnotenie modelu na testovacom súbore údajov\n",
        "loss, accuracy = model.evaluate(data_test, test_labels, verbose=1)\n",
        "print(\"Test Accuracy:\", accuracy)\n"
      ],
      "metadata": {
        "colab": {
          "base_uri": "https://localhost:8080/"
        },
        "id": "WHyAxoktTSpG",
        "outputId": "2d6fef97-afc6-4264-9903-ba70b692d5e9"
      },
      "execution_count": null,
      "outputs": [
        {
          "output_type": "stream",
          "name": "stdout",
          "text": [
            "155/155 [==============================] - 1s 6ms/step - loss: 0.3313 - accuracy: 0.9296\n",
            "Test Accuracy: 0.9295945167541504\n"
          ]
        }
      ]
    },
    {
      "cell_type": "code",
      "source": [
        "# Predikcia pre testovacie dáta\n",
        "predictions = model.predict(data_test)\n",
        "\n",
        "predicted_classes = np.argmax(predictions, axis=1)\n",
        "\n",
        "# Vytvorenie DataFrame s skutočnými triedami a predikovanými triedami\n",
        "results_df = pd.DataFrame({\n",
        "    'Text': test_texts['tweet'],\n",
        "    'True Class': np.argmax(test_labels, axis=1),\n",
        "    'Predicted Class': predicted_classes\n",
        "})\n"
      ],
      "metadata": {
        "colab": {
          "base_uri": "https://localhost:8080/"
        },
        "id": "91gMtIuLTUIE",
        "outputId": "c45b99a6-d169-4c33-8d2e-2de35a3f82cb"
      },
      "execution_count": null,
      "outputs": [
        {
          "output_type": "stream",
          "name": "stdout",
          "text": [
            "155/155 [==============================] - 1s 4ms/step\n"
          ]
        }
      ]
    },
    {
      "cell_type": "code",
      "source": [
        "# Vytvorenie confusion matrix\n",
        "conf_matrix = confusion_matrix(np.argmax(test_labels, axis=1), predicted_classes)\n",
        "\n",
        "# Nastavenie popisov\n",
        "labels = ['True Negative', 'False Positive', 'False Negative', 'True Positive']\n",
        "categories = ['Non-Toxic', 'Toxic']\n",
        "\n",
        "# Vytvorenie DataFrame pre confusion matrix s popismi\n",
        "conf_df = pd.DataFrame(conf_matrix, index=categories, columns=categories)\n",
        "\n",
        "# Vizualizácia confusion matrix pomocou teplotnej mapy\n",
        "plt.figure(figsize=(8, 6))\n",
        "sns.heatmap(conf_df, annot=True, fmt='d', cmap='Blues')\n",
        "plt.xlabel('Predicted Label')\n",
        "plt.ylabel('True Label')\n",
        "plt.title('Confusion Matrix')\n",
        "plt.show()\n"
      ],
      "metadata": {
        "colab": {
          "base_uri": "https://localhost:8080/",
          "height": 564
        },
        "id": "xYV55zATTWHE",
        "outputId": "f7bb763c-7b99-4d00-bcc6-ead2397020d8"
      },
      "execution_count": null,
      "outputs": [
        {
          "output_type": "display_data",
          "data": {
            "text/plain": [
              "<Figure size 800x600 with 2 Axes>"
            ],
            "image/png": "[encoded data removed]"
          },
          "metadata": {}
        }
      ]
    },
    {
      "cell_type": "code",
      "source": [
        "def false_negative_rate(false_negatives, true_positives):\n",
        "    return false_negatives / (false_negatives + true_positives)\n",
        "# Vypočítanie falošných negatív\n",
        "false_negatives = conf_matrix[1][0]\n",
        "print(false_negatives)\n",
        "# Vypočítanie počtu skutočných pozitív\n",
        "true_positives = conf_matrix[1][1]\n",
        "print(true_positives)\n",
        "# Výpočet falošnej negatívnej miery\n",
        "fnr = false_negative_rate(false_negatives, true_positives)\n",
        "\n",
        "print(\"Falošná negatívna miera:\", fnr)"
      ],
      "metadata": {
        "id": "Ys3ul_KuwjMh"
      },
      "execution_count": null,
      "outputs": [
        {
          "output_type": "stream",
          "name": "stdout",
          "text": [
            "166\n",
            "4006\n",
            "Falošná negatívna miera: 0.02814168\n"
          ]
        }
      ]
    }
  ]
}
