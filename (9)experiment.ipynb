{
  "nbformat": 4,
  "nbformat_minor": 0,
  "metadata": {
    "colab": {
      "provenance": [],
      "gpuType": "V100",
      "machine_shape": "hm"
    },
    "kernelspec": {
      "name": "python3",
      "display_name": "Python 3"
    },
    "language_info": {
      "name": "python"
    },
    "accelerator": "GPU"
  },
  "cells": [
    {
      "cell_type": "code",
      "execution_count": null,
      "metadata": {
        "id": "-2tmltsvICiS",
        "colab": {
          "base_uri": "https://localhost:8080/"
        },
        "outputId": "da69ec2e-86e1-4714-e248-b6ee89e6024a"
      },
      "outputs": [
        {
          "output_type": "stream",
          "name": "stderr",
          "text": [
            "[nltk_data] Downloading package punkt to /root/nltk_data...\n",
            "[nltk_data]   Package punkt is already up-to-date!\n",
            "[nltk_data] Downloading package stopwords to /root/nltk_data...\n",
            "[nltk_data]   Package stopwords is already up-to-date!\n"
          ]
        }
      ],
      "source": [
        "import pandas as pd\n",
        "import keras\n",
        "from keras.preprocessing.text import Tokenizer\n",
        "from keras.preprocessing.sequence import pad_sequences\n",
        "from keras.models import Sequential\n",
        "from keras.layers import Embedding, Conv1D, MaxPooling1D, GlobalMaxPooling1D, Dense\n",
        "import numpy as np\n",
        "from sklearn.model_selection import train_test_split\n",
        "from keras.utils import to_categorical\n",
        "from sklearn.metrics import confusion_matrix, accuracy_score, precision_score, recall_score, f1_score\n",
        "from tensorflow.keras.layers import Dropout\n",
        "import matplotlib.pyplot as plt\n",
        "import seaborn as sns\n",
        "import nltk\n",
        "from nltk.corpus import stopwords\n",
        "from nltk.tokenize import word_tokenize\n",
        "from nltk.stem import PorterStemmer\n",
        "from torch.utils.data import TensorDataset\n",
        "import time\n",
        "nltk.download('punkt')\n",
        "nltk.download('stopwords')\n",
        "import re\n",
        "from transformers import BertTokenizer, BertForSequenceClassification\n",
        "\n",
        "import torch\n",
        "from torch.utils.data import DataLoader"
      ]
    },
    {
      "cell_type": "markdown",
      "source": [
        "**Načítanie datasetov**\n",
        "\n",
        "---\n",
        "\n",
        "\n",
        " train: Wikipedia dataset;\n",
        " test: Twitter dataset by Davidson (100%)"
      ],
      "metadata": {
        "id": "LE2e3e4O8yvQ"
      }
    },
    {
      "cell_type": "code",
      "source": [
        "test = pd.read_csv('all_data.csv')\n",
        "train = pd.read_csv('wiki.csv')\n",
        "train = train.drop('id', axis=1)\n",
        "train = train.rename(columns={'comment_text': 'tweet'})\n",
        "train = train.rename(columns={'toxic': 'class'})\n"
      ],
      "metadata": {
        "id": "kmXgvRF9IIcb"
      },
      "execution_count": null,
      "outputs": []
    },
    {
      "cell_type": "code",
      "source": [
        "# Rozdelenie trénovacích dát na textové komentáre a zodpovedajúce triedy\n",
        "train_texts = train['tweet']\n",
        "train_labels = train['class']\n",
        "test_texts = test['tweet']\n",
        "test_labels = test['class']\n"
      ],
      "metadata": {
        "id": "HNjy1-a2gt6P"
      },
      "execution_count": null,
      "outputs": []
    },
    {
      "cell_type": "code",
      "source": [
        "# Načítanie predtrénovanej BERT tokenizer\n",
        "tokenizer = BertTokenizer.from_pretrained('bert-base-uncased')\n",
        "\n",
        "# Načítanie predtrénovanej BERT modelu pre klasifikáciu sekvencií\n",
        "model = BertForSequenceClassification.from_pretrained('bert-base-uncased', num_labels=2)\n",
        "\n",
        "# Tokenizácia textových komentárov a príprava dát pre trénovanie\n",
        "train_encodings = tokenizer(train_texts.tolist(), truncation=True, padding=True)\n",
        "test_encodings = tokenizer(test_texts.tolist(), truncation=True, padding=True)\n",
        "\n",
        "# Vytvorenie trénovacieho datasetu z tokenizovaných dát\n",
        "train_dataset = TensorDataset(torch.tensor(train_encodings['input_ids']),\n",
        "                              torch.tensor(train_encodings['attention_mask']),\n",
        "                              torch.tensor(train_labels.tolist()))\n",
        "\n",
        "# Vytvorenie testovacieho datasetu z tokenizovaných dát\n",
        "test_dataset = TensorDataset(torch.tensor(test_encodings['input_ids']),\n",
        "                             torch.tensor(test_encodings['attention_mask']),\n",
        "                             torch.tensor(test_labels.tolist()))\n"
      ],
      "metadata": {
        "id": "o9MCZvCxIxgg",
        "colab": {
          "base_uri": "https://localhost:8080/"
        },
        "outputId": "b498c4ef-00d8-4995-b04f-ec690b4ec59e"
      },
      "execution_count": null,
      "outputs": [
        {
          "output_type": "stream",
          "name": "stderr",
          "text": [
            "Some weights of BertForSequenceClassification were not initialized from the model checkpoint at bert-base-uncased and are newly initialized: ['classifier.bias', 'classifier.weight']\n",
            "You should probably TRAIN this model on a down-stream task to be able to use it for predictions and inference.\n"
          ]
        }
      ]
    },
    {
      "cell_type": "code",
      "source": [
        "try:\n",
        "    # Trénovanie modelu\n",
        "    train_loader = DataLoader(train_dataset, batch_size=16, shuffle=True)\n",
        "\n",
        "    # Určenie zariadenia (GPU alebo CPU) na trénovanie modelu\n",
        "    device = torch.device('cuda') if torch.cuda.is_available() else torch.device('cpu')\n",
        "    model.to(device)\n",
        "    model.train()\n",
        "\n",
        "    # Definícia optimalizátora pre trénovanie modelu\n",
        "    optimizer = torch.optim.AdamW(model.parameters(), lr=5e-5)\n",
        "\n",
        "    # Trénovanie modelu počas 3 epoch\n",
        "    for epoch in range(3):\n",
        "        start_time = time.time()  # Uloženie času začiatku epochy\n",
        "        print(f\"Epócha {epoch + 1} z 3\")\n",
        "        for batch in train_loader:\n",
        "            optimizer.zero_grad()\n",
        "            input_ids = batch[0].to(device)\n",
        "            attention_mask = batch[1].to(device)\n",
        "            labels = batch[2].to(device)\n",
        "            outputs = model(input_ids, attention_mask=attention_mask, labels=labels)\n",
        "            loss = outputs.loss\n",
        "            loss.backward()\n",
        "            optimizer.step()\n",
        "        end_time = time.time()  # Uloženie času konca epochy\n",
        "        epoch_time = end_time - start_time  # Výpočet času stráveného na epóche\n",
        "except Exception as e:\n",
        "    # Spracovanie a výpis informácií o chybe, ak sa vyskytne\n",
        "    print(\"Došlo k chybe:\", e)\n"
      ],
      "metadata": {
        "id": "7OkciieV1ILD"
      },
      "execution_count": null,
      "outputs": []
    },
    {
      "cell_type": "code",
      "source": [
        "# Testovanie modelu\n",
        "test_loader = DataLoader(test_dataset, batch_size=16, shuffle=False)\n",
        "\n",
        "# Prepínanie modelu do režimu vyhodnocovania\n",
        "model.eval()\n",
        "\n",
        "# Inicializácia premenných pre predikcie a skutočné triedy\n",
        "all_preds = []\n",
        "all_labels = []\n",
        "\n",
        "for batch in test_loader:\n",
        "    input_ids = batch[0].to(device)\n",
        "    attention_mask = batch[1].to(device)\n",
        "    labels = batch[2].cpu().numpy()\n",
        "    # Výpočet predikcií modelu\n",
        "    with torch.no_grad():\n",
        "        outputs = model(input_ids, attention_mask=attention_mask)\n",
        "    logits = outputs.logits\n",
        "    preds = torch.argmax(logits, dim=1).cpu().numpy()\n",
        "    # Zaznamenanie predikcií a skutočných tried\n",
        "    all_preds.extend(preds)\n",
        "    all_labels.extend(labels)\n",
        "\n",
        "# Vyhodnotenie výsledkov\n",
        "accuracy = accuracy_score(all_labels, all_preds)\n",
        "print(\"Accuracy\", accuracy)\n"
      ],
      "metadata": {
        "id": "BediocajghL4",
        "colab": {
          "base_uri": "https://localhost:8080/"
        },
        "outputId": "1d9f2337-38a3-4853-9089-0d84cedff981"
      },
      "execution_count": null,
      "outputs": [
        {
          "output_type": "stream",
          "name": "stdout",
          "text": [
            "Accuracy: 0.8217326393092039\n"
          ]
        }
      ]
    },
    {
      "cell_type": "code",
      "source": [
        "# Výpočet confusion matrix\n",
        "\n",
        "cm = confusion_matrix(all_labels, all_preds)\n",
        "\n",
        "plt.figure(figsize=(8, 6))\n",
        "sns.heatmap(cm, annot=True, fmt='d', cmap='Blues', cbar=False)\n",
        "plt.xlabel('Predicted Label')\n",
        "plt.ylabel('True Label')\n",
        "plt.title('Confusion Matrix')\n",
        "plt.show()"
      ],
      "metadata": {
        "id": "Xb1iRHyDgXXB",
        "colab": {
          "base_uri": "https://localhost:8080/",
          "height": 553
        },
        "outputId": "5621a6e5-02d6-483b-d331-64dad22d32a7"
      },
      "execution_count": null,
      "outputs": [
        {
          "output_type": "display_data",
          "data": {
            "text/plain": [
              "<Figure size 800x600 with 1 Axes>"
            ],
            "image/png": "[encoded data removed]"
          },
          "metadata": {}
        }
      ]
    },
    {
      "cell_type": "code",
      "source": [
        "from sklearn.metrics import confusion_matrix\n",
        "def false_negative_rate(false_negatives, true_positives):\n",
        "    return false_negatives / (false_negatives + true_positives)\n",
        "# Vypočítanie falošných negatív\n",
        "false_negatives = cm[1][0]\n",
        "print(false_negatives)\n",
        "# Vypočítanie počtu skutočných pozitív\n",
        "true_positives = cm[1][1]\n",
        "print(true_positives)\n",
        "# Výpočet falošnej negatívnej miery\n",
        "fnr = false_negative_rate(false_negatives, true_positives)\n",
        "\n",
        "print(\"Falošná negatívna miera:\", fnr)"
      ],
      "metadata": {
        "id": "TcTF3qLSgmNh",
        "colab": {
          "base_uri": "https://localhost:8080/"
        },
        "outputId": "2f5236f0-1e32-40c9-e3f6-ddafe084f3f3"
      },
      "execution_count": null,
      "outputs": [
        {
          "output_type": "stream",
          "name": "stdout",
          "text": [
            "3304\n",
            "17316\n",
            "Falošná negatívna miera: 0.16023278370514063\n"
          ]
        }
      ]
    }
  ]
}
